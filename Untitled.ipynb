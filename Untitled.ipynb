{
 "cells": [
  {
   "cell_type": "code",
   "execution_count": null,
   "id": "64801aff-e59a-4e1a-9c53-93a21cef6473",
   "metadata": {},
   "outputs": [
    {
     "name": "stdout",
     "output_type": "stream",
     "text": [
      " * Serving Flask app '__main__'\n",
      " * Debug mode: off\n"
     ]
    },
    {
     "name": "stderr",
     "output_type": "stream",
     "text": [
      "\u001b[31m\u001b[1mWARNING: This is a development server. Do not use it in a production deployment. Use a production WSGI server instead.\u001b[0m\n",
      " * Running on http://127.0.0.1:5000\n",
      "\u001b[33mPress CTRL+C to quit\u001b[0m\n",
      "127.0.0.1 - - [18/May/2024 10:26:24] \"GET / HTTP/1.1\" 200 -\n",
      "127.0.0.1 - - [18/May/2024 10:26:24] \"GET /static/style.css HTTP/1.1\" 200 -\n",
      "127.0.0.1 - - [18/May/2024 10:26:24] \"\u001b[33mGET /favicon.ico HTTP/1.1\u001b[0m\" 404 -\n",
      "127.0.0.1 - - [18/May/2024 10:29:42] \"POST /scrap HTTP/1.1\" 200 -\n",
      "127.0.0.1 - - [18/May/2024 10:29:43] \"\u001b[36mGET /static/style.css HTTP/1.1\u001b[0m\" 304 -\n"
     ]
    },
    {
     "name": "stdout",
     "output_type": "stream",
     "text": [
      "[None, 'GIRL FRIEND PRANK || PART 3 || VIDEO CALL LO EM CHUPINCHINDI #nccomedykings #nimeshchowdarypranks', \"NC Comedy king's\", '442 Comments', '421 Comments']\n"
     ]
    }
   ],
   "source": [
    "from flask import Flask, render_template, request\n",
    "import pyfile_web_scraping, sentiment_analysis_youtube_comments, mail_sending_to_user_with_attached_csv_files, delete_files_after_mail\n",
    "import pandas as pd\n",
    "\n",
    "app = Flask(__name__)\n",
    "\n",
    "@app.route(\"/\")\n",
    "def home():\n",
    "    return render_template('index.html')\n",
    "\n",
    "@app.route('/scrap', methods = ['POST'])\n",
    "def scrap_comments():\n",
    "    url = request.form.get('youtube url')\n",
    "    emailto = request.form.get('user mail id')\n",
    "\n",
    "    file_and_detail = pyfile_web_scraping.scrapfyt(url)\n",
    "    sentiment = sentiment_analysis_youtube_comments.sepposnegcom(\"Full Comments.csv\")\n",
    "    mail_sending_to_user_with_attached_csv_files.mailsend(emailto)\n",
    "\n",
    "    list_file_and_detail = list(file_and_detail)\n",
    "    list_sentiment = list(sentiment)\n",
    "    print(list_file_and_detail)\n",
    "    video_title, video_owner, video_comment_with_replies, video_comment_without_replies = list_file_and_detail[1:]\n",
    "    pos_comments_csv, neg_comments_csv, video_posive_comments, video_negative_comments = list_sentiment\n",
    "    pos_comments_csv = pd.read_csv('Positive Comments.csv')\n",
    "    neg_comments_csv = pd.read_csv('Negative Comments.csv')\n",
    "\n",
    "    delete_files_after_mail.file_delete()\n",
    "\n",
    "    after_complete_message = \"Your file is ready and sent to your mail id\"\n",
    "\n",
    "    return render_template(\"index.html\",after_complete_message = after_complete_message, title = video_title,\n",
    "                           owner = video_owner, comment_w_replies = video_comment_with_replies,\n",
    "                           comment_wo_replies = video_comment_without_replies,\n",
    "                           positive_comment = video_posive_comments, negative_comment = video_negative_comments,\n",
    "                           pos_comments_csv = [pos_comments_csv.to_html()], neg_comments_csv = [neg_comments_csv.to_html()])\n",
    "\n",
    "if __name__ == \"__main__\":\n",
    "    app.run()\n"
   ]
  },
  {
   "cell_type": "code",
   "execution_count": null,
   "id": "56779e24-cd38-4f75-b4cf-4aee2e41967f",
   "metadata": {},
   "outputs": [],
   "source": []
  }
 ],
 "metadata": {
  "kernelspec": {
   "display_name": "Python 3 (ipykernel)",
   "language": "python",
   "name": "python3"
  },
  "language_info": {
   "codemirror_mode": {
    "name": "ipython",
    "version": 3
   },
   "file_extension": ".py",
   "mimetype": "text/x-python",
   "name": "python",
   "nbconvert_exporter": "python",
   "pygments_lexer": "ipython3",
   "version": "3.11.4"
  }
 },
 "nbformat": 4,
 "nbformat_minor": 5
}
